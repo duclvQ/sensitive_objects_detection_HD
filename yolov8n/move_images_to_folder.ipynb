{
 "cells": [
  {
   "cell_type": "code",
   "execution_count": null,
   "metadata": {},
   "outputs": [],
   "source": [
    "import cv2\n",
    "import os\n",
    "import numpy as np\n",
    "import shutil\n",
    "\n",
    "miss_img_folder = \"missed_vn\"\n",
    "list_img = os.listdir(miss_img_folder)\n",
    "new_folder = \"missed_vn_2\"\n",
    "if not os.path.exists(new_folder):\n",
    "    os.makedirs(new_folder)\n",
    "# move image by name from a folder to new folder\n",
    "org_folder = \"../../dataset/training_data/images/train\"\n",
    "for img in list_img:\n",
    "    img_path = os.path.join(org_folder, img)\n",
    "    # move image to new folder\n",
    "    shutil.move(img_path, new_folder)"
   ]
  },
  {
   "cell_type": "code",
   "execution_count": null,
   "metadata": {},
   "outputs": [],
   "source": [
    "label_folder = r\"E:\\HD_VNese_map\\main_src\\yolov8n\\missed_vn_2_label\"\n",
    "img_folder = r\"E:\\HD_VNese_map\\main_src\\yolov8n\\missed_vn_2\"\n",
    "out_folder = r\"E:\\HD_VNese_map\\main_src\\yolov8n\\out_04_03\"\n",
    "if not os.path.exists(out_folder):\n",
    "    os.makedirs(out_folder)\n",
    "\n",
    "list_label = os.listdir(label_folder)\n",
    "for label in list_label:\n",
    "    for imgpath in os.listdir(img_folder):\n",
    "        # split by last dot, if more than 1 dot in name then split by last dot\n",
    "        imgname = imgpath.split(\".\")[0]\n",
    "        if imgname==label.split(\".\")[0]:\n",
    "            # move image to new folder\n",
    "            img_path = os.path.join(img_folder, imgpath)\n",
    "            shutil.move(img_path, out_folder)\n",
    "            break\n",
    "        "
   ]
  },
  {
   "cell_type": "code",
   "execution_count": null,
   "metadata": {},
   "outputs": [],
   "source": [
    "train_folder = r\"E:\\HD_VNese_map\\dataset\\training_data\\images\\val\"\n",
    "label_train_folder = r\"E:\\HD_VNese_map\\dataset\\training_data\\labels\\val\""
   ]
  },
  {
   "cell_type": "code",
   "execution_count": null,
   "metadata": {},
   "outputs": [],
   "source": [
    "len(os.listdir(train_folder))"
   ]
  },
  {
   "cell_type": "code",
   "execution_count": null,
   "metadata": {},
   "outputs": [],
   "source": [
    "count_map = 0\n",
    "count_background = 0 \n",
    "for imgname in os.listdir(train_folder):\n",
    "    if imgname.startswith(\"co3soc\"): continue\n",
    "\n",
    "    ext = imgname.split(\".\")[-1]\n",
    "    labelname = imgname.replace(ext, \"txt\")\n",
    "    print(labelname + \" \" + imgname)\n",
    "    if os.path.exists(os.path.join(label_train_folder, labelname)):\n",
    "        count_map += 1\n",
    "        string_count = str(count_map).zfill(7)\n",
    "        new_imgname = \"map_\"+string_count + \".\" + ext\n",
    "        new_labelname = \"map_\"+string_count + \".txt\"\n",
    "        # rename image\n",
    "        os.rename(os.path.join(train_folder, imgname), os.path.join(train_folder, new_imgname))\n",
    "        # rename label\n",
    "        os.rename(os.path.join(label_train_folder, labelname), os.path.join(label_train_folder, new_labelname))\n",
    "    else:\n",
    "        count_background += 1\n",
    "        string_count = str(count_background).zfill(7)\n",
    "        new_imgname = \"background_\"+string_count + \".\" + ext\n",
    "        #new_labelname = \"background_\"+string_count + \".txt\"\n",
    "        # rename image\n",
    "        os.rename(os.path.join(train_folder, imgname), os.path.join(train_folder, new_imgname))\n",
    "        # rename label\n",
    "        #os.rename(os.path.join(label_train_folder, labelname), os.path.join(label_train_folder, new_labelname)  )\n",
    "\n",
    "\n",
    "\n",
    "        \n",
    "    "
   ]
  },
  {
   "cell_type": "markdown",
   "metadata": {},
   "source": []
  },
  {
   "cell_type": "code",
   "execution_count": null,
   "metadata": {},
   "outputs": [],
   "source": []
  }
 ],
 "metadata": {
  "kernelspec": {
   "display_name": "base",
   "language": "python",
   "name": "python3"
  },
  "language_info": {
   "codemirror_mode": {
    "name": "ipython",
    "version": 3
   },
   "file_extension": ".py",
   "mimetype": "text/x-python",
   "name": "python",
   "nbconvert_exporter": "python",
   "pygments_lexer": "ipython3",
   "version": "3.9.18"
  }
 },
 "nbformat": 4,
 "nbformat_minor": 2
}
