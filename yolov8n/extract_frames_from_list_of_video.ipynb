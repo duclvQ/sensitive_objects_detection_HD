{
 "cells": [
  {
   "cell_type": "code",
   "execution_count": 1,
   "metadata": {},
   "outputs": [
    {
     "name": "stderr",
     "output_type": "stream",
     "text": [
      "c:\\ProgramData\\miniconda3\\lib\\site-packages\\numpy\\_distributor_init.py:30: UserWarning: loaded more than 1 DLL from .libs:\n",
      "c:\\ProgramData\\miniconda3\\lib\\site-packages\\numpy\\.libs\\libopenblas64__v0.3.21-gcc_10_3_0.dll\n",
      "c:\\ProgramData\\miniconda3\\lib\\site-packages\\numpy\\.libs\\libopenblas64__v0.3.23-246-g3d31191b-gcc_10_3_0.dll\n",
      "  warnings.warn(\"loaded more than 1 DLL from .libs:\"\n"
     ]
    }
   ],
   "source": [
    "import os\n",
    "import sys\n",
    "import cv2\n",
    "import numpy as np\n",
    "import matplotlib.pyplot as plt\n"
   ]
  },
  {
   "cell_type": "code",
   "execution_count": 2,
   "metadata": {},
   "outputs": [
    {
     "name": "stdout",
     "output_type": "stream",
     "text": [
      "1 (1).mp4\n",
      "1 (2).mp4\n",
      "1 (3).mp4\n",
      "1 (4).mp4\n",
      "1 (5).mp4\n",
      "1 (6).mp4\n",
      "1 (7).mp4\n",
      "1 (8).mp4\n"
     ]
    }
   ],
   "source": [
    "folder = r\"C:\\Users\\Administrator\\Downloads\\raw_videos\"\n",
    "saved_folder = r\"C:\\Users\\Administrator\\Downloads\\raw_videos\\frames\"\n",
    "if not os.path.exists(saved_folder):\n",
    "    os.makedirs(saved_folder)\n",
    "list_of_files = os.listdir(folder)\n",
    "for file in list_of_files:\n",
    "    if file.endswith(\".mp4\"):\n",
    "        print(file)\n",
    "        cap = cv2.VideoCapture(os.path.join(folder, file))\n",
    "        frame_number = 0    \n",
    "        \n",
    "        while True:\n",
    "            # using grab() to get the next frame, and using retrieve() to decode the frame\n",
    "            # Grab the next frame\n",
    "            if not cap.grab():\n",
    "                break\n",
    "\n",
    "            # Retrieve the grabbed frame\n",
    "            ret, frame = cap.retrieve()\n",
    "            if not ret:\n",
    "                break\n",
    "            frame_number += 1\n",
    "            if frame_number % 50 == 0:\n",
    "                cv2.imwrite(os.path.join(saved_folder, f\"val_negative_{file}_{frame_number}.jpg\"), frame)\n",
    "        cap.release()\n",
    "                \n",
    "            "
   ]
  },
  {
   "cell_type": "code",
   "execution_count": 5,
   "metadata": {},
   "outputs": [],
   "source": [
    "for filename in os.listdir(saved_folder):\n",
    "    new_name = filename.replace(\" \", \"\")\n",
    "    new_name = new_name.replace(\"(\", \"\")\n",
    "    new_name = new_name.replace(\")\", \"\") \n",
    "    new_name = new_name.replace(\".mp4\", \"\")\n",
    "    os.rename(os.path.join(saved_folder, filename), os.path.join(saved_folder, new_name))\n",
    "    "
   ]
  },
  {
   "cell_type": "code",
   "execution_count": 3,
   "metadata": {},
   "outputs": [
    {
     "name": "stdout",
     "output_type": "stream",
     "text": [
      "7659\n"
     ]
    }
   ],
   "source": [
    "print(len(os.listdir(saved_folder)))"
   ]
  },
  {
   "cell_type": "code",
   "execution_count": 6,
   "metadata": {},
   "outputs": [],
   "source": [
    "# walk through all file in the folder and subfolder then rename the file\n",
    "import shutil\n",
    "root_folder = r\"E:\\HD_VNese_map\\dataset\\training_data\"\n",
    "for root, dirs, files in os.walk(root_folder):\n",
    "    for file in files:\n",
    "        #if file.endswith(\".jpg\"):\n",
    "        if file.startswith(\"train_map_\"):\n",
    "            # create a copy of the file\n",
    "            new_name = file.replace(\"train_map_\", \"train_map_2_\")\n",
    "            shutil.copy(os.path.join(root, file), os.path.join(root, new_name))"
   ]
  },
  {
   "cell_type": "code",
   "execution_count": 8,
   "metadata": {},
   "outputs": [
    {
     "name": "stdout",
     "output_type": "stream",
     "text": [
      "102\n"
     ]
    }
   ],
   "source": [
    "# convert all image file to jpg using opencv\n",
    "root_folder = r\"E:\\HD_VNese_map\\dataset\\training_data\"\n",
    "count_exception = 0\n",
    "for root, dirs, files in os.walk(root_folder):\n",
    "    for file in files:\n",
    "        ext = file.split(\".\")[-1]\n",
    "        if ext in [\"png\", \"jpeg\", \"bmp\", \"gif\", \"svg\"]:\n",
    "            img = cv2.imread(os.path.join(root, file))\n",
    "            new_name = file.replace(ext, \"jpg\")\n",
    "            try:\n",
    "                cv2.imwrite(os.path.join(root, new_name), img)\n",
    "            except:\n",
    "                count_exception += 1\n",
    "                continue\n",
    "            os.remove(os.path.join(root, file))\n",
    "print(count_exception)\n",
    "\n"
   ]
  },
  {
   "cell_type": "code",
   "execution_count": 10,
   "metadata": {},
   "outputs": [
    {
     "data": {
      "text/plain": [
       "46675"
      ]
     },
     "execution_count": 10,
     "metadata": {},
     "output_type": "execute_result"
    }
   ],
   "source": [
    "len(os.listdir(r\"E:\\HD_VNese_map\\dataset\\training_data\\images\\train\"))"
   ]
  },
  {
   "cell_type": "code",
   "execution_count": 2,
   "metadata": {},
   "outputs": [
    {
     "ename": "NameError",
     "evalue": "name 'os' is not defined",
     "output_type": "error",
     "traceback": [
      "\u001b[1;31m---------------------------------------------------------------------------\u001b[0m",
      "\u001b[1;31mNameError\u001b[0m                                 Traceback (most recent call last)",
      "\u001b[1;32me:\\HD_VNese_map\\main_src\\yolov8n\\extract_frames_from_list_of_video.ipynb Cell 8\u001b[0m line \u001b[0;36m5\n\u001b[0;32m      <a href='vscode-notebook-cell:/e%3A/HD_VNese_map/main_src/yolov8n/extract_frames_from_list_of_video.ipynb#X10sZmlsZQ%3D%3D?line=2'>3</a>\u001b[0m count_exception \u001b[39m=\u001b[39m \u001b[39m0\u001b[39m\n\u001b[0;32m      <a href='vscode-notebook-cell:/e%3A/HD_VNese_map/main_src/yolov8n/extract_frames_from_list_of_video.ipynb#X10sZmlsZQ%3D%3D?line=3'>4</a>\u001b[0m count_resized \u001b[39m=\u001b[39m \u001b[39m0\u001b[39m\n\u001b[1;32m----> <a href='vscode-notebook-cell:/e%3A/HD_VNese_map/main_src/yolov8n/extract_frames_from_list_of_video.ipynb#X10sZmlsZQ%3D%3D?line=4'>5</a>\u001b[0m \u001b[39mfor\u001b[39;00m root, dirs, files \u001b[39min\u001b[39;00m os\u001b[39m.\u001b[39mwalk(root_folder):\n\u001b[0;32m      <a href='vscode-notebook-cell:/e%3A/HD_VNese_map/main_src/yolov8n/extract_frames_from_list_of_video.ipynb#X10sZmlsZQ%3D%3D?line=5'>6</a>\u001b[0m     \u001b[39mfor\u001b[39;00m file \u001b[39min\u001b[39;00m files:\n\u001b[0;32m      <a href='vscode-notebook-cell:/e%3A/HD_VNese_map/main_src/yolov8n/extract_frames_from_list_of_video.ipynb#X10sZmlsZQ%3D%3D?line=6'>7</a>\u001b[0m         ext \u001b[39m=\u001b[39m file\u001b[39m.\u001b[39msplit(\u001b[39m\"\u001b[39m\u001b[39m.\u001b[39m\u001b[39m\"\u001b[39m)[\u001b[39m-\u001b[39m\u001b[39m1\u001b[39m]\n",
      "\u001b[1;31mNameError\u001b[0m: name 'os' is not defined"
     ]
    }
   ],
   "source": [
    "# convert all image file to jpg using opencv\n",
    "root_folder = r\"E:\\HD_VNese_map\\dataset\\training_data\"\n",
    "count_exception = 0\n",
    "count_resized = 0\n",
    "for root, dirs, files in os.walk(root_folder):\n",
    "    for file in files:\n",
    "        ext = file.split(\".\")[-1]\n",
    "        if ext in [\"png\", \"jpeg\", \"bmp\", \"gif\", \"svg\",\"jpg\"]:\n",
    "            img = cv2.imread(os.path.join(root, file))\n",
    "            # if size of the image too large, resize it\n",
    "            try:\n",
    "                if file.startswith(\"train_negative_\") or file.startswith(\"val_negative_\"):\n",
    "                    if img.shape[0] > 720 or img.shape[1] > 720:\n",
    "                        img = cv2.resize(img, (720, 720))\n",
    "                        count_resized += 1\n",
    "                        # save the resized image\n",
    "                        cv2.imwrite(os.path.join(root, file), img)\n",
    "                        \n",
    "                else:\n",
    "                    continue\n",
    "            except:\n",
    "                count_exception += 1\n",
    "                continue\n",
    "         "
   ]
  },
  {
   "cell_type": "code",
   "execution_count": null,
   "metadata": {},
   "outputs": [],
   "source": [
    "print(count_exception)\n",
    "print(count_resized)"
   ]
  }
 ],
 "metadata": {
  "kernelspec": {
   "display_name": "base",
   "language": "python",
   "name": "python3"
  },
  "language_info": {
   "codemirror_mode": {
    "name": "ipython",
    "version": 3
   },
   "file_extension": ".py",
   "mimetype": "text/x-python",
   "name": "python",
   "nbconvert_exporter": "python",
   "pygments_lexer": "ipython3",
   "version": "3.9.18"
  }
 },
 "nbformat": 4,
 "nbformat_minor": 2
}
