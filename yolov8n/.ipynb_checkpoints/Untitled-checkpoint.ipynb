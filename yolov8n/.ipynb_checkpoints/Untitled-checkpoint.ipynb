{
 "cells": [
  {
   "cell_type": "code",
   "execution_count": 4,
   "id": "7427ae7a-ea2a-4c9c-94a6-e820df32f82e",
   "metadata": {},
   "outputs": [],
   "source": [
    "from torch import jit\n",
    "import torch"
   ]
  },
  {
   "cell_type": "code",
   "execution_count": 75,
   "id": "099937f2-9505-4660-b019-db54b24ce329",
   "metadata": {
    "scrolled": true
   },
   "outputs": [
    {
     "name": "stdout",
     "output_type": "stream",
     "text": [
      "\n"
     ]
    }
   ],
   "source": [
    "net = jit.load('best.torchscript')\n",
    "device = torch.device(\"cuda\")\n",
    "net.to(device)\n",
    "print()"
   ]
  },
  {
   "cell_type": "code",
   "execution_count": 108,
   "id": "b2f73128-9006-42ab-b1d5-791b61085777",
   "metadata": {},
   "outputs": [
    {
     "name": "stdout",
     "output_type": "stream",
     "text": [
      "torch.Size([16, 10, 8400])\n"
     ]
    },
    {
     "data": {
      "text/plain": [
       "1.0578726999992796"
      ]
     },
     "execution_count": 108,
     "metadata": {},
     "output_type": "execute_result"
    }
   ],
   "source": [
    "import timeit\n",
    "start_time = timeit.default_timer()\n",
    "x = torch.randn(16, 3, 640, 640)\n",
    "x = x.to(device)\n",
    "preds = net(x)\n",
    "print(preds.shape)\n",
    "preds = ops.non_max_suppression(preds,0.2,0.2)\n",
    "end_time =  timeit.default_timer()\n",
    "end_time - start_time"
   ]
  },
  {
   "cell_type": "code",
   "execution_count": 109,
   "id": "4f404f04-8a42-443b-a3d0-954e8041d026",
   "metadata": {},
   "outputs": [
    {
     "data": {
      "text/plain": [
       "[tensor([], device='cuda:0', size=(0, 6)),\n",
       " tensor([], device='cuda:0', size=(0, 6)),\n",
       " tensor([], device='cuda:0', size=(0, 6)),\n",
       " tensor([], device='cuda:0', size=(0, 6)),\n",
       " tensor([], device='cuda:0', size=(0, 6)),\n",
       " tensor([], device='cuda:0', size=(0, 6)),\n",
       " tensor([], device='cuda:0', size=(0, 6)),\n",
       " tensor([], device='cuda:0', size=(0, 6)),\n",
       " tensor([], device='cuda:0', size=(0, 6)),\n",
       " tensor([], device='cuda:0', size=(0, 6)),\n",
       " tensor([], device='cuda:0', size=(0, 6)),\n",
       " tensor([], device='cuda:0', size=(0, 6)),\n",
       " tensor([], device='cuda:0', size=(0, 6)),\n",
       " tensor([], device='cuda:0', size=(0, 6)),\n",
       " tensor([], device='cuda:0', size=(0, 6)),\n",
       " tensor([], device='cuda:0', size=(0, 6))]"
      ]
     },
     "execution_count": 109,
     "metadata": {},
     "output_type": "execute_result"
    }
   ],
   "source": [
    "preds"
   ]
  },
  {
   "cell_type": "code",
   "execution_count": 56,
   "id": "3d346435-c75d-4ce9-b1aa-d92f36b911c0",
   "metadata": {},
   "outputs": [],
   "source": [
    "from ultralytics.utils import ops\n"
   ]
  },
  {
   "cell_type": "code",
   "execution_count": 71,
   "id": "ea8a2e7e-8d06-4832-a6a4-900fcf6ddddf",
   "metadata": {},
   "outputs": [
    {
     "ename": "ModuleNotFoundError",
     "evalue": "No module named 'torch_tensorrt'",
     "output_type": "error",
     "traceback": [
      "\u001b[1;31m---------------------------------------------------------------------------\u001b[0m",
      "\u001b[1;31mModuleNotFoundError\u001b[0m                       Traceback (most recent call last)",
      "Cell \u001b[1;32mIn[71], line 1\u001b[0m\n\u001b[1;32m----> 1\u001b[0m \u001b[38;5;28;01mimport\u001b[39;00m \u001b[38;5;21;01mtorch_tensorrt\u001b[39;00m\n",
      "\u001b[1;31mModuleNotFoundError\u001b[0m: No module named 'torch_tensorrt'"
     ]
    }
   ],
   "source": [
    "import torch_tensorrt"
   ]
  },
  {
   "cell_type": "code",
   "execution_count": 40,
   "id": "629d97ba-9142-4783-b00c-32850c7ab255",
   "metadata": {},
   "outputs": [
    {
     "data": {
      "text/plain": [
       "[tensor([], device='cuda:0', size=(0, 6)),\n",
       " tensor([], device='cuda:0', size=(0, 6)),\n",
       " tensor([], device='cuda:0', size=(0, 6)),\n",
       " tensor([], device='cuda:0', size=(0, 6)),\n",
       " tensor([], device='cuda:0', size=(0, 6)),\n",
       " tensor([], device='cuda:0', size=(0, 6)),\n",
       " tensor([], device='cuda:0', size=(0, 6)),\n",
       " tensor([], device='cuda:0', size=(0, 6)),\n",
       " tensor([], device='cuda:0', size=(0, 6)),\n",
       " tensor([], device='cuda:0', size=(0, 6)),\n",
       " tensor([], device='cuda:0', size=(0, 6)),\n",
       " tensor([], device='cuda:0', size=(0, 6)),\n",
       " tensor([], device='cuda:0', size=(0, 6)),\n",
       " tensor([], device='cuda:0', size=(0, 6)),\n",
       " tensor([], device='cuda:0', size=(0, 6)),\n",
       " tensor([], device='cuda:0', size=(0, 6))]"
      ]
     },
     "execution_count": 40,
     "metadata": {},
     "output_type": "execute_result"
    }
   ],
   "source": [
    "preds"
   ]
  },
  {
   "cell_type": "code",
   "execution_count": null,
   "id": "801b2577-1d8c-4675-82dc-94757606d357",
   "metadata": {},
   "outputs": [],
   "source": []
  }
 ],
 "metadata": {
  "kernelspec": {
   "display_name": "Python 3 (ipykernel)",
   "language": "python",
   "name": "python3"
  },
  "language_info": {
   "codemirror_mode": {
    "name": "ipython",
    "version": 3
   },
   "file_extension": ".py",
   "mimetype": "text/x-python",
   "name": "python",
   "nbconvert_exporter": "python",
   "pygments_lexer": "ipython3",
   "version": "3.8.0"
  }
 },
 "nbformat": 4,
 "nbformat_minor": 5
}
