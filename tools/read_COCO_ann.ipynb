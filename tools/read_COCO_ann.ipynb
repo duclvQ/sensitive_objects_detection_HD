{
 "cells": [
  {
   "cell_type": "code",
   "execution_count": 1,
   "metadata": {},
   "outputs": [],
   "source": [
    "import os\n",
    "import json\n",
    "\n",
    "# path = r\"G:\\My Drive\\my_work\\temp\\instances_train2017.json\\instances_train2017.json\"\n"
   ]
  },
  {
   "cell_type": "code",
   "execution_count": 2,
   "metadata": {},
   "outputs": [],
   "source": [
    "# # open json file\n",
    "# with open(path, 'r') as f:\n",
    "#     data = json.load(f)\n"
   ]
  },
  {
   "cell_type": "code",
   "execution_count": 2,
   "metadata": {},
   "outputs": [],
   "source": [
    "train_img_folder = r\"E:\\HD_VNese_map\\dataset\\training_data\\images\\train\"\n",
    "val_img_folder = r\"E:\\HD_VNese_map\\dataset\\training_data\\images\\val\"\n",
    "train_anno_folder = r\"E:\\HD_VNese_map\\dataset\\training_data\\labels\\train\"\n",
    "val_anno_folder = r\"E:\\HD_VNese_map\\dataset\\training_data\\labels\\val\"\n",
    "\n"
   ]
  },
  {
   "cell_type": "markdown",
   "metadata": {},
   "source": [
    "“id”: A unique identifier for the image.\n",
    "“width”: The width of the image in pixels.\n",
    "“height”: The height of the image in pixels.\n",
    "“file_name”: The file name of the image.\n",
    "“license”: The license associated with the image."
   ]
  },
  {
   "cell_type": "code",
   "execution_count": null,
   "metadata": {},
   "outputs": [],
   "source": []
  },
  {
   "cell_type": "markdown",
   "metadata": {},
   "source": [
    "“id”: A unique identifier for the annotation.\n",
    "“image_id”: The identifier of the image containing the annotated object.\n",
    "“category_id”: The identifier of the category (i.e., class) of the annotated object.\n",
    "“bbox”: A list of four numbers representing the bounding box of the annotated object in the format [x, y, width, height], where (x, y) is the top-left corner of the bounding box.\n",
    "“area”: The area of the bounding box in square pixels."
   ]
  },
  {
   "cell_type": "code",
   "execution_count": 12,
   "metadata": {},
   "outputs": [
    {
     "name": "stderr",
     "output_type": "stream",
     "text": [
      "  0%|          | 0/46743 [00:00<?, ?it/s]"
     ]
    },
    {
     "name": "stderr",
     "output_type": "stream",
     "text": [
      "100%|██████████| 46743/46743 [10:14<00:00, 76.09it/s] \n"
     ]
    },
    {
     "name": "stdout",
     "output_type": "stream",
     "text": [
      "Done\n"
     ]
    },
    {
     "name": "stderr",
     "output_type": "stream",
     "text": [
      "100%|██████████| 10597/10597 [01:35<00:00, 110.74it/s]\n"
     ]
    },
    {
     "name": "stdout",
     "output_type": "stream",
     "text": [
      "Done\n"
     ]
    }
   ],
   "source": [
    "import cv2\n",
    "from tqdm import tqdm\n",
    "import shutil\n",
    "import PIL\n",
    "from PIL import Image, ImageSequence\n",
    "import numpy as np\n",
    "def convert_gif_to_jpg(img_path):\n",
    "    # Open the gif image using PIL\n",
    "    gif = Image.open(f\"{img_path}\")\n",
    "    # write only the first frame of the gif to a new file\n",
    "    for i, frame in enumerate(ImageSequence.Iterator(gif)):\n",
    "        # Convert PIL image to OpenCV format\n",
    "        img = cv2.cvtColor(np.array(frame), cv2.COLOR_RGB2BGR)\n",
    "        # Save the image\n",
    "        cv2.imwrite(f\"{img_path.replace('.gif', '.jpg')}\", img)\n",
    "        break\n",
    "\n",
    "\n",
    "def convert_yolo_to_coco(image_folder, anno_folder, save_path):\n",
    "    train_img_folder = image_folder\n",
    "    train_anno_folder = anno_folder\n",
    "\n",
    "    license = \"0\"\n",
    "    count_except = 0\n",
    "    train_json = {\n",
    "        \"info\": {\n",
    "            \"description\": \"HD Vietnamese Map\",\n",
    "            \"url\": \"\",\n",
    "            \"version\": \"1.0\",\n",
    "            \"year\": 2024,\n",
    "        },\n",
    "        \"images\": [],\n",
    "        \"annotations\": [],\n",
    "        \"categories\": [\n",
    "            {\n",
    "                \"id\": 0,\n",
    "                \"name\": \"china\",\n",
    "                \"supercategory\": \"map\"\n",
    "            },\n",
    "            {\n",
    "                \"id\": 1,\n",
    "                \"name\": \"vietnam\",\n",
    "                \"supercategory\": \"map\"\n",
    "            },\n",
    "            {\n",
    "                \"id\": 2,\n",
    "                \"name\": \"sea\",\n",
    "                \"supercategory\": \"map\"\n",
    "            },\n",
    "            {\n",
    "                \"id\": 3,\n",
    "                \"name\": \"_\",\n",
    "                \"supercategory\": \"_\"\n",
    "            },\n",
    "            {\n",
    "                \"id\": 4,\n",
    "                \"name\": \"nine_dash_line\",\n",
    "                \"supercategory\": \"map\"\n",
    "            },\n",
    "            {\n",
    "                \"id\": 5,\n",
    "                \"name\": \"flag\",\n",
    "                \"supercategory\": \"flag\"\n",
    "            }\n",
    "        ],\n",
    "    }\n",
    "    except_img_folder = r\"E:\\HD_VNese_map\\dataset\\training_data\\images\\except\"\n",
    "    except_anno_folder = r\"E:\\HD_VNese_map\\dataset\\training_data\\labels\\except\"\n",
    "    if not os.path.exists(except_img_folder):\n",
    "        os.makedirs(except_img_folder)\n",
    "    if not os.path.exists(except_anno_folder):\n",
    "        os.makedirs(except_anno_folder)\n",
    "    # rename images\n",
    "    num_train_img = len(os.listdir(train_img_folder))\n",
    "    train_img_list = os.listdir(train_img_folder)\n",
    "    unique_id_for_annotation = 0\n",
    "    for _id in tqdm(range(num_train_img)):\n",
    "        img_filename = train_img_list[_id]\n",
    "        if img_filename.endswith(\".gif\"):\n",
    "            convert_gif_to_jpg(os.path.join(train_img_folder, img_filename))\n",
    "            img_filename = img_filename.replace(\".gif\", \".jpg\")\n",
    "\n",
    "        label_filename = img_filename.replace(\".jpg\", \".txt\")\n",
    "        img = cv2.imread(os.path.join(train_img_folder, img_filename))\n",
    "        try:\n",
    "            h, w, _ = img.shape\n",
    "        except:\n",
    "            print(\"except\", img_filename)\n",
    "            # remove image\n",
    "            try:\n",
    "                shutil.move(os.path.join(train_img_folder, img_filename), os.path.join(except_img_folder, img_filename))\n",
    "            except:\n",
    "                print(\"except when moving:\", img_filename)\n",
    "            continue\n",
    "        # setup img     info\n",
    "        img_info = {\n",
    "            \"license\": license,\n",
    "            \"file_name\": img_filename,\n",
    "            \"height\": h,\n",
    "            \"width\": w,\n",
    "            \"id\": _id\n",
    "        }\n",
    "        train_json[\"images\"].append(img_info)\n",
    "        if os.path.exists(os.path.join(train_anno_folder, label_filename)):\n",
    "            with open(os.path.join(train_anno_folder, label_filename), 'r') as f:\n",
    "                anno = f.readlines()\n",
    "                for line in anno:\n",
    "                    line = line.strip().split()\n",
    "                    try:\n",
    "                        x, y, w, h = float(line[1]), float(line[2]), float(line[3]), float(line[4])\n",
    "                    except:\n",
    "                        count_except += 1\n",
    "                        print(\"except\", line, \"in\", label_filename)\n",
    "                        # move img and label to except folder\n",
    "                        # close both files before moving    \n",
    "                        f.close()\n",
    "                        try:\n",
    "                            shutil.move(os.path.join(train_img_folder, img_filename), os.path.join(except_img_folder, img_filename))\n",
    "                            shutil.move(os.path.join(train_anno_folder, label_filename), os.path.join(except_anno_folder, label_filename))\n",
    "                        except:\n",
    "                            print(\"except when moving:\", img_filename)\n",
    "                            \n",
    "                        continue\n",
    "                    # convert to x_left, y_top, w,h \n",
    "                    x = x - w/2\n",
    "                    y = y - h/2\n",
    "                    # unnormallize\n",
    "                    x = x * img_info[\"width\"]\n",
    "                    y = y * img_info[\"height\"]\n",
    "                    w = w * img_info[\"width\"]\n",
    "                    h = h * img_info[\"height\"]\n",
    "                    # setup annotation\n",
    "                    unique_id_for_annotation += 1\n",
    "                    anno_info = {\n",
    "                        \"id\": unique_id_for_annotation,\n",
    "                        \"image_id\": _id,\n",
    "                        \"category_id\": int(float(line[0])),\n",
    "                        \"bbox\": [x, y, w, h],\n",
    "                        \"area\": w * h,\n",
    "                    }\n",
    "                    train_json[\"annotations\"].append(anno_info)\n",
    "    with open(save_path, 'w') as f:\n",
    "        json.dump(train_json, f)\n",
    "    print(\"Done\")\n",
    "\n",
    "convert_yolo_to_coco(train_img_folder, train_anno_folder, r\"E:\\HD_VNese_map\\dataset\\training_data\\labels\\train.json\")\n",
    "convert_yolo_to_coco(val_img_folder, val_anno_folder, r\"E:\\HD_VNese_map\\dataset\\training_data\\labels\\val.json\")\n",
    "            \n"
   ]
  },
  {
   "cell_type": "code",
   "execution_count": 9,
   "metadata": {},
   "outputs": [
    {
     "name": "stdout",
     "output_type": "stream",
     "text": [
      "Requirement already satisfied: pillow in c:\\programdata\\miniconda3\\lib\\site-packages (10.0.0)\n",
      "Collecting pillow\n",
      "  Downloading pillow-10.2.0-cp39-cp39-win_amd64.whl (2.6 MB)\n",
      "                                              0.0/2.6 MB ? eta -:--:--\n",
      "                                              0.0/2.6 MB ? eta -:--:--\n",
      "     -                                        0.1/2.6 MB 2.2 MB/s eta 0:00:02\n",
      "     ----                                     0.3/2.6 MB 2.9 MB/s eta 0:00:01\n",
      "     ---------                                0.6/2.6 MB 4.9 MB/s eta 0:00:01\n",
      "     -------------------                      1.3/2.6 MB 7.4 MB/s eta 0:00:01\n",
      "     --------------------------------------   2.5/2.6 MB 12.4 MB/s eta 0:00:01\n",
      "     ---------------------------------------- 2.6/2.6 MB 10.4 MB/s eta 0:00:00\n",
      "Installing collected packages: pillow\n",
      "  Attempting uninstall: pillow\n",
      "    Found existing installation: Pillow 10.0.0\n",
      "    Uninstalling Pillow-10.0.0:\n",
      "      Successfully uninstalled Pillow-10.0.0\n"
     ]
    },
    {
     "name": "stderr",
     "output_type": "stream",
     "text": [
      "WARNING: Ignoring invalid distribution -ensorflow-intel (c:\\programdata\\miniconda3\\lib\\site-packages)\n",
      "WARNING: Ignoring invalid distribution -pencv-python (c:\\programdata\\miniconda3\\lib\\site-packages)\n",
      "WARNING: Ignoring invalid distribution -ensorflow-intel (c:\\programdata\\miniconda3\\lib\\site-packages)\n",
      "WARNING: Ignoring invalid distribution -pencv-python (c:\\programdata\\miniconda3\\lib\\site-packages)\n",
      "ERROR: Could not install packages due to an OSError: [WinError 5] Access is denied: 'C:\\\\Users\\\\Administrator\\\\AppData\\\\Local\\\\Temp\\\\3\\\\pip-uninstall-jabcedga\\\\_imaging.cp39-win_amd64.pyd'\n",
      "Consider using the `--user` option or check the permissions.\n",
      "\n"
     ]
    }
   ],
   "source": [
    "ImageSequence.Iterator"
   ]
  },
  {
   "cell_type": "code",
   "execution_count": 10,
   "metadata": {},
   "outputs": [
    {
     "name": "stdout",
     "output_type": "stream",
     "text": [
      "9.4.0\n"
     ]
    }
   ],
   "source": [
    "import PIL\n",
    "print(PIL.__version__)"
   ]
  },
  {
   "cell_type": "code",
   "execution_count": null,
   "metadata": {},
   "outputs": [],
   "source": []
  }
 ],
 "metadata": {
  "kernelspec": {
   "display_name": "base",
   "language": "python",
   "name": "python3"
  },
  "language_info": {
   "codemirror_mode": {
    "name": "ipython",
    "version": 3
   },
   "file_extension": ".py",
   "mimetype": "text/x-python",
   "name": "python",
   "nbconvert_exporter": "python",
   "pygments_lexer": "ipython3",
   "version": "3.9.18"
  }
 },
 "nbformat": 4,
 "nbformat_minor": 2
}
