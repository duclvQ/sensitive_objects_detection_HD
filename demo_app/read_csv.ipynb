{
 "cells": [
  {
   "cell_type": "code",
   "execution_count": 37,
   "metadata": {},
   "outputs": [
    {
     "data": {
      "text/plain": [
       "dict_keys([186, 1578, 2592, 3486, 7854, 8862, 11802])"
      ]
     },
     "execution_count": 37,
     "metadata": {},
     "output_type": "execute_result"
    }
   ],
   "source": [
    "import pandas as pd\n",
    "import numpy as np\n",
    "\n",
    "filename = \"test.txt\"\n",
    "stride = 6\n",
    "def create_flag_dict_for_recheck_phase(filename, stride):\n",
    "    names = [\"frame\", \"class_id\", \"x\", \"y\", \"x_max\", \"y_max\"]\n",
    "    data = pd.read_csv(filename, sep=\" \", comment=\"#\", na_values=\"Nothing\", names=names)\n",
    "    uniques = data[\"class_id\"].unique()\n",
    "    data_dict = {}\n",
    "    recheck_dict = {}\n",
    "   \n",
    "    # for unique in uniques:\n",
    "    #     data_subset = data[data[\"class_id\"] == unique]\n",
    "    #     # reset index of dataframe\n",
    "    #     data_subset.reset_index(drop=True, inplace=True)\n",
    "    #     data_dict[unique] = data_subset\n",
    "        \n",
    "    #     continuous_list = []\n",
    "        \n",
    "    #     for i in range(len(data_subset['frame'])):\n",
    "    #         if len(continuous_list) == 0:\n",
    "    #             continuous_list.append(data_subset['frame'][i])\n",
    "    #             continue\n",
    "            \n",
    "    #         if data_subset['frame'][i] - continuous_list[-1] <= stride*3:\n",
    "    #             continuous_list.append(data_subset['frame'][i])\n",
    "    #         else:\n",
    "    #             _key = continuous_list[int(len(continuous_list)/2)]\n",
    "    #             recheck_dict.setdefault(unique, {})[_key] = continuous_list\n",
    "    #             continuous_list = []\n",
    "    #             continuous_list.append(data_subset['frame'][i])\n",
    "    #flag_dict = {}\n",
    "    if 0 not in uniques:\n",
    "        return recheck_dict\n",
    "    flag_data = data[data[\"class_id\"] == 0]\n",
    "    flag_data.reset_index(drop=True, inplace=True)\n",
    "    continuous_list = []\n",
    "    for i in range(len(flag_data['frame'])):\n",
    "        if len(continuous_list) == 0:\n",
    "            continuous_list.append(flag_data['frame'][i])\n",
    "            continue\n",
    "            \n",
    "        if flag_data['frame'][i] - continuous_list[-1] <= stride*3:\n",
    "            continuous_list.append(flag_data['frame'][i])\n",
    "        else:\n",
    "            _key = continuous_list[int(len(continuous_list)/2)]\n",
    "            recheck_dict[_key] = {\n",
    "                'frames':continuous_list,\n",
    "                'position_of_middle_frame': (flag_data['x'][i], flag_data['y'][i], flag_data['x_max'][i], flag_data['y_max'][i])\n",
    "            }\n",
    "            continuous_list = []\n",
    "            continuous_list.append(flag_data['frame'][i])\n",
    "    \n",
    "    return recheck_dict\n",
    "create_dict_for_recheck_phase(filename, stride).keys()"
   ]
  },
  {
   "cell_type": "code",
   "execution_count": 19,
   "metadata": {},
   "outputs": [
    {
     "data": {
      "text/html": [
       "<div>\n",
       "<style scoped>\n",
       "    .dataframe tbody tr th:only-of-type {\n",
       "        vertical-align: middle;\n",
       "    }\n",
       "\n",
       "    .dataframe tbody tr th {\n",
       "        vertical-align: top;\n",
       "    }\n",
       "\n",
       "    .dataframe thead th {\n",
       "        text-align: right;\n",
       "    }\n",
       "</style>\n",
       "<table border=\"1\" class=\"dataframe\">\n",
       "  <thead>\n",
       "    <tr style=\"text-align: right;\">\n",
       "      <th></th>\n",
       "      <th>frame</th>\n",
       "      <th>class_id</th>\n",
       "      <th>x</th>\n",
       "      <th>y</th>\n",
       "      <th>x_max</th>\n",
       "      <th>y_max</th>\n",
       "    </tr>\n",
       "  </thead>\n",
       "  <tbody>\n",
       "    <tr>\n",
       "      <th>0</th>\n",
       "      <td>6</td>\n",
       "      <td>2</td>\n",
       "      <td>0.735938</td>\n",
       "      <td>0.393056</td>\n",
       "      <td>0.895313</td>\n",
       "      <td>0.519444</td>\n",
       "    </tr>\n",
       "    <tr>\n",
       "      <th>1</th>\n",
       "      <td>6</td>\n",
       "      <td>0</td>\n",
       "      <td>0.707031</td>\n",
       "      <td>0.198958</td>\n",
       "      <td>0.824219</td>\n",
       "      <td>0.356250</td>\n",
       "    </tr>\n",
       "    <tr>\n",
       "      <th>2</th>\n",
       "      <td>6</td>\n",
       "      <td>1</td>\n",
       "      <td>0.757813</td>\n",
       "      <td>0.323611</td>\n",
       "      <td>0.795313</td>\n",
       "      <td>0.411111</td>\n",
       "    </tr>\n",
       "    <tr>\n",
       "      <th>3</th>\n",
       "      <td>12</td>\n",
       "      <td>2</td>\n",
       "      <td>0.735547</td>\n",
       "      <td>0.393056</td>\n",
       "      <td>0.895313</td>\n",
       "      <td>0.519444</td>\n",
       "    </tr>\n",
       "    <tr>\n",
       "      <th>4</th>\n",
       "      <td>12</td>\n",
       "      <td>0</td>\n",
       "      <td>0.707031</td>\n",
       "      <td>0.199653</td>\n",
       "      <td>0.824219</td>\n",
       "      <td>0.356250</td>\n",
       "    </tr>\n",
       "  </tbody>\n",
       "</table>\n",
       "</div>"
      ],
      "text/plain": [
       "   frame  class_id         x         y     x_max     y_max\n",
       "0      6         2  0.735938  0.393056  0.895313  0.519444\n",
       "1      6         0  0.707031  0.198958  0.824219  0.356250\n",
       "2      6         1  0.757813  0.323611  0.795313  0.411111\n",
       "3     12         2  0.735547  0.393056  0.895313  0.519444\n",
       "4     12         0  0.707031  0.199653  0.824219  0.356250"
      ]
     },
     "execution_count": 19,
     "metadata": {},
     "output_type": "execute_result"
    }
   ],
   "source": [
    "data.head()"
   ]
  },
  {
   "cell_type": "code",
   "execution_count": null,
   "metadata": {},
   "outputs": [],
   "source": []
  }
 ],
 "metadata": {
  "kernelspec": {
   "display_name": "base",
   "language": "python",
   "name": "python3"
  },
  "language_info": {
   "codemirror_mode": {
    "name": "ipython",
    "version": 3
   },
   "file_extension": ".py",
   "mimetype": "text/x-python",
   "name": "python",
   "nbconvert_exporter": "python",
   "pygments_lexer": "ipython3",
   "version": "3.9.18"
  }
 },
 "nbformat": 4,
 "nbformat_minor": 2
}
